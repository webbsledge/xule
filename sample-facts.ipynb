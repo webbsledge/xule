{
 "cells": [
  {
   "cell_type": "markdown",
   "id": "74b239e7",
   "metadata": {},
   "source": [
    "## Using XULE to extract XBRL facts  \n",
    "This interactive environment copies the [free, open-source XULE plugin](https://github.com/xbrlus/xule/) to a working Python environment with [Arelle](https://pypi.org/project/arelle-release/) plus [additional packages](https://raw.githubusercontent.com/xbrlus/xule/jupyter/environment.yml). Click the code cell below (gray background) to bring it in focus, then click the run button above to add and confirm XULE is ready. **The asterisk to the left of the cell indicates the cell is queued/processing**. "
   ]
  },
  {
   "cell_type": "code",
   "execution_count": null,
   "id": "f0ee42f6",
   "metadata": {
    "cellView": "form",
    "tags": [
     "hide-cell"
    ]
   },
   "outputs": [],
   "source": [
    "# @title\n",
    "import os, shutil, sys, site, platform\n",
    "print('Please wait while Arelle, XULE and some helper packages are installed. \\nA XULE version message appears below when the environment is ready.')\n",
    "\n",
    "# In this example, Arelle and aniso are required to use XULE - get Arelle release details from GitHub (https://github.com/Arelle/arelle/releases).\n",
    "# Use %pip -q install git+https://git@github.com/Arelle/arelle.git@master to use Arelle's development release\n",
    "%pip -q install Arelle-release==2.30.11\n",
    "%pip -q install aniso8601==9.0.1\n",
    "\n",
    "# 1) locate Arelle's plugin directory (do not modify this location); remove temp and xuledir if they exist\n",
    "plugindir = site.getsitepackages()[0] + '/arelle/plugin/'\n",
    "xuledir = plugindir + 'xule/'\n",
    "xodeldir = plugindir + 'xodel/'\n",
    "serializerdir = plugindir + 'serializer/'\n",
    "SimpleXBRLModeldir = plugindir + 'SimpleXBRLModel/'\n",
    "temp = plugindir + 'temp/'\n",
    "tempxule = temp + 'plugin/xule/'\n",
    "tempxodel = temp + 'plugin/xodel/'\n",
    "tempserializer = temp + 'plugin/serializer/'\n",
    "tempSimpleXBRLModel = temp + 'plugin/SimpleXBRLModel/'\n",
    "if os.path.exists(temp):\n",
    "        if os.path.isdir(temp):\n",
    "            os.remove(plugindir + 'semanticHash.py')\n",
    "            shutil.rmtree(xuledir)\n",
    "            shutil.rmtree(xodeldir)\n",
    "            shutil.rmtree(serializerdir)\n",
    "            shutil.rmtree(SimpleXBRLModeldir)\n",
    "            shutil.rmtree(temp)\n",
    "else: ''\n",
    "os.chdir(plugindir)\n",
    "\n",
    "# 2) copy a XULE release from GitHub (https://github.com/xbrlus/xule/releases) to plugin directory\n",
    "!git clone --quiet --depth=1 --branch 30041 --single-branch https://github.com/xbrlus/xule.git temp &> /dev/null\n",
    "shutil.move(temp + 'plugin/semanticHash.py', plugindir)\n",
    "shutil.move(tempxule, xuledir)\n",
    "shutil.move(tempxodel, xodeldir)\n",
    "shutil.move(tempserializer, serializerdir)\n",
    "shutil.move(tempSimpleXBRLModel, SimpleXBRLModeldir)\n",
    "\n",
    "# 3) confirm XULE (change -v to -h and re-run to see help contents for Arelle and XULE)\n",
    "!arelleCmdLine --plugins 'xule' -v"
   ]
  },
  {
   "cell_type": "markdown",
   "id": "f7400d47",
   "metadata": {},
   "source": [
    "Run the cell below to choose ``constants`` used in the XULE expression below.  Click the ``Show code`` link to review/revise this script."
   ]
  },
  {
   "cell_type": "code",
   "execution_count": null,
   "id": "17304b34",
   "metadata": {
    "cellView": "form",
    "tags": [
     "hide-cell"
    ]
   },
   "outputs": [],
   "source": [
    "# @title\n",
    "def get_user_url(options):\n",
    "    while True:\n",
    "        print(\"\\n\\nType a number from the list or enter a valid report URI to generate all facts.\\nLeave blank to use the first report in the list: \")\n",
    "        for i, option in enumerate(options):\n",
    "            print(f\"{i + 1}. {option}\")\n",
    "        choice = input(\"> \")\n",
    "        # Check if the user entered a number from the list\n",
    "        try:\n",
    "            choice = int(choice)\n",
    "            if 1 <= choice <= len(options):\n",
    "                return options[choice - 1]\n",
    "        except ValueError:\n",
    "            if choice == '':\n",
    "                return options[0]\n",
    "            else: \n",
    "                pass\n",
    "        # If the user didn't enter a number, take it as custom input\n",
    "        return choice\n",
    "\n",
    "options = [\"https://www.sec.gov/Archives/edgar/data/720762/000149315224042532/form10-k.htm\",\n",
    "           \"https://www.sec.gov/Archives/edgar/data/700764/000107997324001419/vyey_10q-033124.htm\"]\n",
    "\n",
    "report = get_user_url(options)\n",
    "\n",
    "print(\"\\nSelect the number of the file format for output.\\nLeave blank to use the spreadsheet option: \")\n",
    "data = {\n",
    "    \"1\": \"spreadsheet\",\n",
    "    \"2\": \"json\"\n",
    "    }\n",
    "\n",
    "for key, value in data.items():\n",
    "    print(f\"{key}. {value}\")\n",
    "\n",
    "choice = input(\"> \")\n",
    "\n",
    "if choice in data:\n",
    "    format = data[choice]\n",
    "else:\n",
    "    print(\"No entry - using spreadsheet option.\")\n",
    "    format = \"spreadsheet\"\n",
    "\n",
    "location = input(\"\\nEnter a path to the output location or leave the field blank \\nto use the default value /content/ (Colab location)> \") or '/content/'\n",
    "\n",
    "name = input(\"\\nEnter a name for the file without spaces or leave the field blank \\nto use the default value 'xbrl-facts'> \") or 'xbrl-facts'\n",
    "\n",
    "# This deletes the prior version of XULE file if the name matches what  was provided in this routine.\n",
    "if os.path.exists(name + '.xule'):\n",
    "    os.remove(name + '.xule')\n",
    "else: ''"
   ]
  },
  {
   "cell_type": "markdown",
   "id": "6a1f71ff",
   "metadata": {},
   "source": [
    "### 1. Define a XULE Expression\n",
    "The data array created below corresponds to tabs in a spreadsheet for each named section of the presentation linkbase (ie. the financial statements and its disclosures) The function ``.agg-to-dict(1)`` is applied to each different set of 6 characters produced by the list (and printed to the first position) to create section arrays.\n",
    "\n",
    "Details from the presentation linkbase are printed in each section of the data array (columns 1 -9 in each worksheet). To create a visual hierarchy, an `if/else condition` evaluates each concept's _navigation-depth_ and _preferred-label_ and applies blank spaces preceding the _target.label.text_ string within the statement or disclosure's strucuture.\n",
    "\n",
    "The code cell below can be edited. Run the cell to write and view the XULE file that will be compiled in the next step. After this XULE cell is run once, re-running the cell above can be used to update ``constants`` in the XULE expression."
   ]
  },
  {
   "cell_type": "code",
   "execution_count": null,
   "id": "e5d783b2",
   "metadata": {},
   "outputs": [],
   "source": [
    "xule_file = '''\n",
    "/** add constants and namespaces below **/\n",
    "\n",
    "constant $schema = report('%s')\n",
    "constant $fileformat = '%s'\n",
    "constant $filedir = '%s'\n",
    "constant $filename = '%s'\n",
    "\n",
    "/** modify rule below **/\n",
    "output example\n",
    "\n",
    "output-attribute file-location\n",
    "output-attribute file-content\n",
    "\n",
    "{@}\n",
    "\n",
    "file-content $rule-value\n",
    "file-location $filelocation\n",
    "\n",
    "message\n",
    "\"{$rule-value.concept.local-name} {$rule-value.period} {$rule-value} {$rule-value.unit}\" \n",
    "'''\n",
    "with open(name + '.xule', mode='w') as file:\n",
    "    file.write(xule_file % (report, format, location, name))\n",
    "!cat $name'.xule'"
   ]
  },
  {
   "cell_type": "markdown",
   "id": "df7ef764",
   "metadata": {},
   "source": [
    "### 2. Run XULE against an XBRL report\n",
    "The cell below compiles the sample.xule file above (the `{@}` XULE expression returns all facts for an XBRL report) and runs the .zip against the instance document listed in the command (NB: run the first code cell in this notebook with the -h switch instead of -v to get configuration paramters for the command). "
   ]
  },
  {
   "cell_type": "code",
   "execution_count": null,
   "id": "2631071f",
   "metadata": {},
   "outputs": [],
   "source": [
    "REPORT_URL = report\n",
    "FILE_NAME = name + '.xule'\n",
    "ZIP_NAME = name + '.zip'\n",
    "FILE_LOCATION = location\n",
    "LOG_LOCATION = location + 'log.xml'\n",
    "print('Start compiling XULE.\\n\\n') \n",
    "\n",
    "# compile XULE into .zip \n",
    "!arelleCmdLine --plugins \"xule\" --xule-compile $FILE_NAME \\\n",
    "--xule-rule-set $ZIP_NAME --logFormat=\"[%(messageCode)s] %(message)s\"\n",
    "\n",
    "# copy XULE and .zip to /content/ directory (a Colab-specific location)\n",
    "shutil.copy(FILE_NAME, FILE_LOCATION+FILE_NAME)\n",
    "shutil.copy(ZIP_NAME, FILE_LOCATION+ZIP_NAME)\n",
    "print('\\n\\nEnd compiling and start analyzing ' + report)\n",
    "      \n",
    "# run .zip to create output\n",
    "!arelleCmdLine --plugins \"xule|transforms/SEC|validate/EFM|inlineXbrlDocumentSet\" \\\n",
    "--xule-rule-set $ZIP_NAME \\\n",
    "-v -f $REPORT_URL \\\n",
    "--xule-time .000 --xule-debug --noCertificateCheck \\\n",
    "--httpUserAgent \"XULE-Arelle (xbrl.us; support@xbrl.us)\" --logFile $LOG_LOCATION"
   ]
  },
  {
   "cell_type": "markdown",
   "metadata": {},
   "source": [
    "\n",
    "Any **[example]** details listed above were found in the report ('example' is the default name of the output in the sample.xule file above).  Modify and re-run the _1. Define_ and _2. Run_ cells, or change and re-run the report in the _2. Run_ cell to get different results.\n",
    "\n"
   ]
  }
 ],
 "metadata": {
  "kernelspec": {
   "display_name": "Python 3",
   "language": "python",
   "name": "python3"
  },
  "language_info": {
   "codemirror_mode": {
    "name": "ipython"
   },
   "file_extension": ".py",
   "mimetype": "text/x-python",
   "name": "python",
   "nbconvert_exporter": "python"
  },
  "vscode": {
   "interpreter": {}
  }
 },
 "nbformat": 4,
 "nbformat_minor": 5
}
