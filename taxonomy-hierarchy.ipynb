{
 "cells": [
  {
   "cell_type": "markdown",
   "id": "jIDDLQntO7R_",
   "metadata": {
    "id": "jIDDLQntO7R_"
   },
   "source": [
    "## Using XULE to extract the presentation structure from an XBRL taxonomy  \n",
    "This interactive Python code copies the [free, open-source XULE plugin](https://github.com/xbrlus/xule/) into an [Arelle](https://pypi.org/project/arelle-release/) installation. Click the run button to get started. This step only needs to be completed **once for the session** unless different versions of Arelle or XULE are required. Click the `Show code` link to review/revise the setup script."
   ]
  },
  {
   "cell_type": "code",
   "execution_count": null,
   "id": "8oYnM_IiO7SD",
   "metadata": {
    "cellView": "form",
    "tags": [
     "hide-cell"
    ]
   },
   "outputs": [],
   "source": [
    "# @title\n",
    "import os, shutil, sys, site, platform\n",
    "print('Please wait while Arelle, XULE and some helper packages are installed. \\nA XULE version message appears below when the environment is ready.')\n",
    "\n",
    "# In this example, Arelle and aniso are required to use XULE - get Arelle release details from GitHub (https://github.com/Arelle/arelle/releases).\n",
    "# Use %pip -q install git+https://git@github.com/Arelle/arelle.git@master to use Arelle's development release\n",
    "%pip -q install Arelle-release==2.30.11\n",
    "%pip -q install aniso8601==9.0.1\n",
    "\n",
    "# 1) locate Arelle's plugin directory (do not modify this location); remove temp and xuledir if they exist\n",
    "plugindir = site.getsitepackages()[0] + '/arelle/plugin/'\n",
    "xuledir = plugindir + 'xule/'\n",
    "xodeldir = plugindir + 'xodel/'\n",
    "serializerdir = plugindir + 'serializer/'\n",
    "SimpleXBRLModeldir = plugindir + 'SimpleXBRLModel/'\n",
    "temp = plugindir + 'temp/'\n",
    "tempxule = temp + 'plugin/xule/'\n",
    "tempxodel = temp + 'plugin/xodel/'\n",
    "tempserializer = temp + 'plugin/serializer/'\n",
    "tempSimpleXBRLModel = temp + 'plugin/SimpleXBRLModel/'\n",
    "if os.path.exists(temp):\n",
    "        if os.path.isdir(temp):\n",
    "            os.remove(plugindir + 'semanticHash.py')\n",
    "            shutil.rmtree(xuledir)\n",
    "            shutil.rmtree(xodeldir)\n",
    "            shutil.rmtree(serializerdir)\n",
    "            shutil.rmtree(SimpleXBRLModeldir)\n",
    "            shutil.rmtree(temp)\n",
    "else: ''\n",
    "os.chdir(plugindir)\n",
    "\n",
    "# 2) copy a XULE release from GitHub (https://github.com/xbrlus/xule/releases) to plugin directory\n",
    "!git clone --quiet --depth=1 --branch 30041 --single-branch https://github.com/xbrlus/xule.git temp &> /dev/null\n",
    "shutil.move(temp + 'plugin/semanticHash.py', plugindir)\n",
    "shutil.move(tempxule, xuledir)\n",
    "shutil.move(tempxodel, xodeldir)\n",
    "shutil.move(tempserializer, serializerdir)\n",
    "shutil.move(tempSimpleXBRLModel, SimpleXBRLModeldir)\n",
    "\n",
    "# 3) confirm XULE (change -v to -h and re-run to see help contents for Arelle and XULE)\n",
    "!arelleCmdLine --plugins 'xule' -v"
   ]
  },
  {
   "cell_type": "markdown",
   "id": "Zf1c05j4O7SE",
   "metadata": {
    "id": "Zf1c05j4O7SE"
   },
   "source": [
    "### 1. Define a XULE Expression\n",
    "The cell below is a XULE 'file' called taxonomy-hierarchy.xule **which starts on the line below _%%writefile_** - *this is a Jupyter-specific command* that saves the cell's contents as a file when the cell is run.\n",
    "\n",
    "The XULE expression in the file creates an Excel spreadsheet of the presentation hierarchy for a filing (defined in the expression as $schema) and saves it in location `/content/` as the file `taxonomy-hierarchy.xlsx`. This location (as well as references to it in step 2) assumes Colab is the environment, and should be adjusted based on local machine or online service location for storage.\n",
    "\n",
    "Each tab in the spreadsheet is an array corresponding to a section of the presentation linkbase (ie. the financial statements and its disclosures) The function .agg-to-dict(1) is applied to each different set of 6 characters produced by the list (and printed to the first column) to create spreadsheet tabs.\n",
    "\n",
    "The columns in each worksheet (1 - 9) include details from the presentation linkbase. To create a visual hierarchy, an `if/else condition` evaluates each concept's navigation-depth and preferred-label and applies blank spaces to the presentation label within the statement or disclosure's strucuture.\n",
    "\n",
    "The `/** commented  US GAAP 2024 entry point**/` in the expression (or another XBRL report URL) can replace the current report URL as $schema to produce an Excel of the entire taxonomy published by the Finanacial Accounting Standards Board (a 'base' taxonomy for US GAAP filers) or any other XBRL report presentation hierarchy.\n",
    "\n",
    "The `/** commented  lines to output as .json**/` in the expression creates the arrays in this format (remember to comment out the .xlsx lines)\n",
    "\n",
    "Click the code cell below then **use 'Run All Below' from Jupyter's Cell menu** to save and run XULE with a single click (NB: after the cell is run once, toggling **%%writefile** to **%load** will display the contents of the sample.xule file in the cell)."
   ]
  },
  {
   "cell_type": "code",
   "execution_count": null,
   "id": "ggQPrtszO7SE",
   "metadata": {
    "id": "ggQPrtszO7SE"
   },
   "outputs": [],
   "source": [
    "%%writefile 'taxonomy-hierarchy.xule'\n",
    "constant $filedir = '/content/'\n",
    "constant $filename = 'taxonomy-hierarchy'\n",
    "constant $schema = taxonomy('https://www.sec.gov/Archives/edgar/data/720762/000149315224042532/form10-k.htm')\n",
    "/** US GAAP 2024 'https://xbrl.fasb.org/us-gaap/2024/entire/us-gaap-entryPoint-std-2024.xsd' **/\n",
    "\n",
    "output-attribute file-location\n",
    "output-attribute file-content\n",
    "\n",
    "output taxonomy\n",
    "\n",
    "$presentation = (navigate parent-child descendants taxonomy $schema\n",
    "    returns  (\n",
    "        role-description,\n",
    "        source-name,\n",
    "        target-name,\n",
    "        order,\n",
    "        navigation-order,\n",
    "        preferred-label,\n",
    "        result-order,\n",
    "        navigation-depth,\n",
    "        target\n",
    "    )\n",
    ")\n",
    "\n",
    "$updatedlist = filter $presentation returns list(\n",
    "    $item[1].substring(1,6),\n",
    "    $item[1],\n",
    "    $item[2],\n",
    "    $item[3],\n",
    "    $item[4],\n",
    "    $item[5],\n",
    "    if\n",
    "      $item[6].text == none '  '.repeat($item[8]) + $item[9].label.text\n",
    "    else\n",
    "      '  '.repeat($item[8]) + $item[6].text)\n",
    "\n",
    "$presentation_updated = $updatedlist.agg-to-dict(1)\n",
    "\n",
    "$presentation_updated.to-spreadsheet\n",
    "file-location $filedir + $filename + '.xlsx'\n",
    "\n",
    "/** $presentation_updated.to-json\n",
    "file-location $filedir + $filename + '.json' **/\n",
    "\n",
    "file-content $rule-value"
   ]
  },
  {
   "cell_type": "markdown",
   "id": "FwqEei-YO7SF",
   "metadata": {
    "id": "FwqEei-YO7SF"
   },
   "source": [
    "### 2. Run XULE against an XBRL report"
   ]
  },
  {
   "cell_type": "code",
   "execution_count": null,
   "id": "chepAby9O7SF",
   "metadata": {
    "id": "chepAby9O7SF"
   },
   "outputs": [],
   "source": [
    "# compile XULE into .zip \n",
    "!arelleCmdLine --plugins \"xule\" --xule-compile \"taxonomy-hierarchy.xule\" \\\n",
    "--xule-rule-set \"taxonomy-hierarchy.zip\" --logFormat=\"[%(messageCode)s] %(message)s\"\n",
    "\n",
    "# move XULE and .zip to /content/ directory (a Colab-specific location)\n",
    "shutil.copy('taxonomy-hierarchy.xule', '/content/taxonomy-hierarchy.xule')\n",
    "shutil.copy('taxonomy-hierarchy.zip', '/content/taxonomy-hierarchy.zip')\n",
    "\n",
    "# run .zip to create output\n",
    "!arelleCmdLine --plugins \"xule|transforms/SEC|validate/EFM|inlineXbrlDocumentSet\" \\\n",
    "--xule-rule-set \"/content/taxonomy-hierarchy.zip\" \\\n",
    "-v -f \"https://www.sec.gov/Archives/edgar/data/720762/000149315224042532/form10-k.htm\" \\\n",
    "--xule-time .000 --xule-debug --noCertificateCheck \\\n",
    "--httpUserAgent \"XULE-Arelle (xbrl.us; support@xbrl.us)\" --logFile \"/content/log.xml\""
   ]
  },
  {
   "cell_type": "markdown",
   "id": "g4sMX9qiO7SF",
   "metadata": {
    "id": "g4sMX9qiO7SF"
   },
   "source": [
    "\n",
    "The commands in the cell above:\n",
    "1. uses the XULE plugin to compile the XULE file from step 1 into a .zip file (XULE must be compiled before it will run)\n",
    "1. copies the source .xule and compiled .zip files to the content folder in the environment (click the folder at left to download), and\n",
    "1. uses XULE and other plugins to run the .zip against an XBRL report listed in the command (the SEC requires a User Agent to access reports programmatically), create a file according to the XULE expression (.xlsx or .json) and generate a log.xml of the process. \n",
    "\n",
    "The XULE expression and Arelle commands define `/content/` as the location for files - XULE, .zip, .xlsx and .xml - so these outputs will appear in the folder at left (default Colab environment) after processing completes. \n",
    "\n",
    "If the `$schema` constant in the expression is updated for a 'base' taxonomy (ie. FASB, FERC, IFRS), a report - also known as an instance document - using the same base taxonomy must be used with the last command in the sequence.\n",
    "\n",
    "(NB: run the first code cell in this notebook with the -h switch instead of -v to get configuration paramters for the command).\n"
   ]
  }
 ],
 "metadata": {
  "colab": {
   "provenance": []
  },
  "kernelspec": {
   "display_name": "Python 3",
   "language": "python",
   "name": "python3"
  },
  "language_info": {
   "codemirror_mode": {
    "name": "ipython",
    "version": 3
   },
   "file_extension": ".py",
   "mimetype": "text/x-python",
   "name": "python",
   "nbconvert_exporter": "python",
   "pygments_lexer": "ipython3",
   "version": ""
  },
  "vscode": {
   "interpreter": {}
  }
 },
 "nbformat": 4,
 "nbformat_minor": 5
}
