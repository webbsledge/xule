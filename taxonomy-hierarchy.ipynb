{
 "cells": [
  {
   "cell_type": "markdown",
   "id": "jIDDLQntO7R_",
   "metadata": {
    "id": "jIDDLQntO7R_"
   },
   "source": [
    "## Using XULE to extract the presentation structure from an XBRL taxonomy \n",
    "This interactive Python code updates, compiles, and runs a XULE expression to output the presentation hierarchy for a filing or taxonomy to either a spreadsheet or JSON file.\n",
    "\n",
    "Click the first run button below to copy the [free, open-source XULE plugin](https://github.com/xbrlus/xule/) into an [Arelle](https://pypi.org/project/arelle-release/) installation. This step only needs to be completed **once for the session** unless different versions of Arelle or XULE are required. Click the `Show code` link to review/revise the setup script."
   ]
  },
  {
   "cell_type": "code",
   "execution_count": null,
   "id": "8oYnM_IiO7SD",
   "metadata": {
    "cellView": "form",
    "tags": [
     "hide-cell"
    ]
   },
   "outputs": [],
   "source": [
    "# @title\n",
    "import os, shutil, sys, site, platform\n",
    "print('Please wait while Arelle, XULE and some helper packages are installed. \\nA XULE version message and input field appear below when the environment is ready.')\n",
    "\n",
    "# In this example, Arelle and aniso are required to use XULE - get Arelle release details from GitHub (https://github.com/Arelle/arelle/releases).\n",
    "# Use %pip -q install git+https://git@github.com/Arelle/arelle.git@master to use Arelle's development release\n",
    "%pip -q install Arelle-release==2.30.11\n",
    "%pip -q install aniso8601==9.0.1\n",
    "\n",
    "# 1) locate Arelle's plugin directory (do not modify this location); remove temp and xuledir if they exist\n",
    "plugindir = site.getsitepackages()[0] + '/arelle/plugin/'\n",
    "xuledir = plugindir + 'xule/'\n",
    "xodeldir = plugindir + 'xodel/'\n",
    "serializerdir = plugindir + 'serializer/'\n",
    "SimpleXBRLModeldir = plugindir + 'SimpleXBRLModel/'\n",
    "temp = plugindir + 'temp/'\n",
    "tempxule = temp + 'plugin/xule/'\n",
    "tempxodel = temp + 'plugin/xodel/'\n",
    "tempserializer = temp + 'plugin/serializer/'\n",
    "tempSimpleXBRLModel = temp + 'plugin/SimpleXBRLModel/'\n",
    "if os.path.exists(temp):\n",
    "        if os.path.isdir(temp):\n",
    "            os.remove(plugindir + 'semanticHash.py')\n",
    "            shutil.rmtree(xuledir)\n",
    "            shutil.rmtree(xodeldir)\n",
    "            shutil.rmtree(serializerdir)\n",
    "            shutil.rmtree(SimpleXBRLModeldir)\n",
    "            shutil.rmtree(temp)\n",
    "else: ''\n",
    "os.chdir(plugindir)\n",
    "\n",
    "# 2) copy a XULE release from GitHub (https://github.com/xbrlus/xule/releases) to plugin directory\n",
    "!git clone --quiet --depth=1 --branch 30041 --single-branch https://github.com/xbrlus/xule.git temp &> /dev/null\n",
    "shutil.move(temp + 'plugin/semanticHash.py', plugindir)\n",
    "shutil.move(tempxule, xuledir)\n",
    "shutil.move(tempxodel, xodeldir)\n",
    "shutil.move(tempserializer, serializerdir)\n",
    "shutil.move(tempSimpleXBRLModel, SimpleXBRLModeldir)\n",
    "\n",
    "# 3) confirm XULE (change -v to -h and re-run to see help contents for Arelle and XULE)\n",
    "!arelleCmdLine --plugins 'xule' -v"
   ]
  },
  {
   "cell_type": "markdown",
   "id": "46605d2d",
   "metadata": {},
   "source": [
    "Run the cell below to choose ``constants`` used in the XULE expression below.  Click the ``Show code`` link to review/revise this script."
   ]
  },
  {
   "cell_type": "code",
   "execution_count": null,
   "id": "ac6c3e41",
   "metadata": {
    "cellView": "form",
    "tags": [
     "hide-cell"
    ]
   },
   "outputs": [],
   "source": [
    "# @title\n",
    "def get_user_url(options):\n",
    "    while True:\n",
    "        print(\"\\n\\nType a number from the list or enter a valid report or taxonomy URI to generate its presentation hierarchy.\\nLeave blank to use the first report in the list: \")\n",
    "        for i, option in enumerate(options):\n",
    "            print(f\"{i + 1}. {option}\")\n",
    "        choice = input(\"> \")\n",
    "        # Check if the user entered a number from the list\n",
    "        try:\n",
    "            choice = int(choice)\n",
    "            if 1 <= choice <= len(options):\n",
    "                return options[choice - 1]\n",
    "        except ValueError:\n",
    "            if choice == '':\n",
    "                return options[0]\n",
    "            else: \n",
    "                pass\n",
    "        # If the user didn't enter a number, take it as custom input\n",
    "        return choice\n",
    "\n",
    "options = [\"https://www.sec.gov/Archives/edgar/data/720762/000149315224042532/form10-k.htm\",\n",
    "           \"https://www.sec.gov/Archives/edgar/data/700764/000107997324001419/vyey_10q-033124.htm\",\n",
    "           \"https://xbrl.fasb.org/us-gaap/2024/entire/us-gaap-entryPoint-std-2024.xsd\"]\n",
    "\n",
    "taxonomy = get_user_url(options)\n",
    "\n",
    "print(\"\\nSelect the number of the file format for output.\\nLeave blank to use the spreadsheet option: \")\n",
    "data = {\n",
    "    \"1\": \"spreadsheet\",\n",
    "    \"2\": \"json\"\n",
    "    }\n",
    "\n",
    "for key, value in data.items():\n",
    "    print(f\"{key}. {value}\")\n",
    "\n",
    "choice = input(\"> \")\n",
    "\n",
    "if choice in data:\n",
    "    format = data[choice]\n",
    "else:\n",
    "    print(\"No entry - using spreadsheet option.\")\n",
    "    format = \"spreadsheet\"\n",
    "\n",
    "location = input(\"\\nEnter a path to the output location or leave the field blank \\nto use the default value /content/ (Colab location)> \") or '/content/'\n",
    "\n",
    "name = input(\"\\nEnter a name for the file without spaces or leave the field blank \\nto use the default value 'taxonomy-hierarchy'> \") or 'taxonomy-hierarchy'\n",
    "\n",
    "# This deletes the prior version of XULE file if the name matches what  was provided in this routine.\n",
    "if os.path.exists(name + '.xule'):\n",
    "    os.remove(name + '.xule')\n",
    "else: ''"
   ]
  },
  {
   "cell_type": "markdown",
   "id": "Zf1c05j4O7SE",
   "metadata": {
    "id": "Zf1c05j4O7SE"
   },
   "source": [
    "### 1. Define a XULE Expression\n",
    "The data array created below corresponds to tabs in a spreadsheet for each named section of the presentation linkbase (ie. the financial statements and its disclosures) The function ``.agg-to-dict(1)`` is applied to each different set of 6 characters produced by the list (and printed to the first position) to create section arrays.\n",
    "\n",
    "Details from the presentation linkbase are printed in each section of the data array (columns 1 -9 in each worksheet). To create a visual hierarchy, an `if/else condition` evaluates each concept's _navigation-depth_ and _preferred-label_ and applies blank spaces preceding the _target.label.text_ string within the statement or disclosure's strucuture.\n",
    "\n",
    "The code cell below can be edited. Run the cell to write and view the XULE file that will be compiled in the next step. After this XULE cell is run once, re-running the cell above can be used to update ``constants`` in the XULE expression."
   ]
  },
  {
   "cell_type": "code",
   "execution_count": null,
   "id": "ggQPrtszO7SE",
   "metadata": {
    "id": "ggQPrtszO7SE"
   },
   "outputs": [],
   "source": [
    "xule_file = '''\n",
    "constant $schema = taxonomy('%s')\n",
    "constant $fileformat = '%s'\n",
    "constant $filedir = '%s'\n",
    "constant $filename = '%s'\n",
    "\n",
    "output-attribute file-location\n",
    "output-attribute file-content\n",
    "\n",
    "output taxonomy\n",
    "\n",
    "$presentation = (navigate parent-child descendants taxonomy $schema\n",
    "    returns  (\n",
    "        role-description,\n",
    "        source-name,\n",
    "        target-name,\n",
    "        order,\n",
    "        navigation-order,\n",
    "        preferred-label,\n",
    "        result-order,\n",
    "        navigation-depth,\n",
    "        target\n",
    "    )\n",
    ")\n",
    "\n",
    "$updatedlist = filter $presentation returns list(\n",
    "    $item[1].substring(1,6),\n",
    "    $item[1],\n",
    "    $item[2],\n",
    "    $item[3],\n",
    "    $item[4],\n",
    "    $item[5],\n",
    "    if\n",
    "      $item[6].text == none '  '.repeat($item[8]) + $item[9].label.text\n",
    "    else\n",
    "      '  '.repeat($item[8]) + $item[6].text)\n",
    "\n",
    "$presentation_updated = $updatedlist.agg-to-dict(1)\n",
    "\n",
    "if $fileformat != 'spreadsheet'\n",
    "  $filelocation = $filedir + $filename + '.json'\n",
    "  $presentation_updated.to-json \n",
    "else\n",
    "  $filelocation = $filedir + $filename + '.xlsx'\n",
    "  $presentation_updated.to-spreadsheet\n",
    "\n",
    "/** The output attributes below are written to the log. To use an output attribute in the logic of a XULE expression **/\n",
    "/** - as with the conditional choosing file format above - it must be defined as a variable (eg. file-location $filelocation) **/\n",
    "\n",
    "file-content $rule-value\n",
    "file-location $filelocation\n",
    "'''\n",
    "with open(name + '.xule', mode='w') as file:\n",
    "    file.write(xule_file % (taxonomy, format, location, name))\n",
    "!cat $name'.xule'"
   ]
  },
  {
   "cell_type": "markdown",
   "id": "FwqEei-YO7SF",
   "metadata": {
    "id": "FwqEei-YO7SF"
   },
   "source": [
    "### 2. Run XULE against an XBRL report\n",
    "Several steps are taken in the terminal commands below. After defining variables for files and locations based on the earlier inputs, the first Arelle command compiles the XULE into a .zip. Next, the XULE and compiled .zip files are copied from the default save location (the XULE plugin directory), followed by a second Arelle command running the .zip to create the output. (NB: In scenarios where the plugin configuration is identical, the ``--xule-compile`` and ``--xule-rule-set -v -f`` - effectively compile and use .zip to validate an entrypoint or file - can be run as a single command."
   ]
  },
  {
   "cell_type": "code",
   "execution_count": null,
   "id": "chepAby9O7SF",
   "metadata": {
    "id": "chepAby9O7SF"
   },
   "outputs": [],
   "source": [
    "FILE_NAME = name + '.xule'\n",
    "ZIP_NAME = name + '.zip'\n",
    "FILE_LOCATION = location\n",
    "LOG_LOCATION = location + 'log.xml'\n",
    "print('Start compiling XULE.\\n\\n') \n",
    "\n",
    "# compile XULE into .zip \n",
    "!arelleCmdLine --plugins \"xule\" --xule-compile $FILE_NAME \\\n",
    "--xule-rule-set $ZIP_NAME --logFormat=\"[%(messageCode)s] %(message)s\"\n",
    "\n",
    "# copy XULE and .zip to /content/ directory (a Colab-specific location)\n",
    "shutil.copy(FILE_NAME, FILE_LOCATION+FILE_NAME)\n",
    "shutil.copy(ZIP_NAME, FILE_LOCATION+ZIP_NAME)\n",
    "print('\\n\\nEnd compiling and start analyzing ' + taxonomy + \\\n",
    "'\\nThere may be different URIs below because the -f argument is a placeholder report URI matching the base taxonomy year \\nof the report or taxonomy URI input above (ie. 2024 US GAAP).\\n\\n')\n",
    "\n",
    "# run .zip to create output\n",
    "!arelleCmdLine --plugins \"xule|transforms/SEC|validate/EFM|inlineXbrlDocumentSet\" \\\n",
    "--xule-rule-set $ZIP_NAME \\\n",
    "-v -f \"https://www.sec.gov/Archives/edgar/data/720762/000149315224042532/form10-k.htm\" \\\n",
    "--xule-time .000 --xule-debug --noCertificateCheck \\\n",
    "--httpUserAgent \"XULE-Arelle (xbrl.us; support@xbrl.us)\" --logFile $LOG_LOCATION"
   ]
  },
  {
   "cell_type": "markdown",
   "id": "323d4e92",
   "metadata": {},
   "source": [
    "#### Get help with Arelle and XULE commands by running the cell below."
   ]
  },
  {
   "cell_type": "code",
   "execution_count": null,
   "id": "ec0d1bef",
   "metadata": {},
   "outputs": [],
   "source": [
    "!arelleCmdLine --plugins \"xule\" -h"
   ]
  }
 ],
 "metadata": {
  "colab": {
   "provenance": []
  },
  "kernelspec": {
   "display_name": "Python 3",
   "language": "python",
   "name": "python3"
  },
  "language_info": {
   "codemirror_mode": {
    "name": "ipython",
    "version": 3
   },
   "file_extension": ".py",
   "mimetype": "text/x-python",
   "name": "python",
   "nbconvert_exporter": "python",
   "pygments_lexer": "ipython3",
   "version": ""
  },
  "vscode": {
   "interpreter": {}
  }
 },
 "nbformat": 4,
 "nbformat_minor": 5
}
